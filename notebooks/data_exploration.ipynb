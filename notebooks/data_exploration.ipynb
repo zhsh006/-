# 在 notebooks/data_exploration.ipynb 中

import pandas as pd
import matplotlib.pyplot as plt

# 1. 加载数据
df = pd.read_csv("../data/synthetic_sensor_data.csv")

# 2. 简要查看
print(df.head())

# 3. 绘制部分样本的波形
sample_id = 0
seq_length = 200
feature_dim = 6

signal = df.iloc[sample_id, :-1].values.reshape(seq_length, feature_dim)
label  = df.iloc[sample_id, -1]

plt.figure()
for axis in range(feature_dim):
    plt.plot(signal[:, axis], label=f"Axis {axis}")
plt.title(f"Sample {sample_id} - Label: {label}")
plt.legend()
plt.show()
